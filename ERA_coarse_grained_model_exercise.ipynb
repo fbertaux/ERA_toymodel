{
 "cells": [
  {
   "cell_type": "markdown",
   "metadata": {},
   "source": [
    "\n",
    "# Exercise on resource allocation: the 'ERA' model\n",
    "\n",
    "## Description of the 'ERA' whole-cell coarse-grained model\n",
    "\n",
    "We consider an extremely simplified representation of a cell:\n",
    "\n",
    "<img src='ERA-model-scheme.png' width=50%/>\n",
    "\n",
    "As depicted above, the cell is made of only three coarse-grained molecular components: two types of proteins, $E$ and $R$, and a single species $A$ representing both protein precursors and energy.\n",
    "\n",
    "* The job of $E$ proteins is to convert external nutrients into protein precursors $A$\n",
    "\n",
    "* The job of $R$ proteins is to convert protein precursors $A$ into proteins ($E$ or $R$)\n",
    "\n",
    "* We call $k$ the efficiency of transport and metabolism, i.e. protein precursors $A$ are produced at rate $k E$\n",
    "\n",
    "* $\\sigma$ and $a_{sat}$ are the enzymatic constants for $R$, i.e. the total rate of protein synthesis (which is also the consumption rate of $A$) is $\\sigma \\frac{a}{a+a_{sat}} R$ where $a = A / V$ is the concentration of protein precursors $A$\n",
    "\n",
    "* The fractions $f_E$ and $f_R = 1 - f_E$ represent the cell proteome allocation, i.e. how much of total protein synthesis is invested in $E$ and $R$ proteins respectively \n",
    "\n",
    "* We assume that the cell maintains a constant mass density, so that the cell volume is always proportional to the cell  mass, which is equal to $E + R + A$ (we assume that $E$, $R$ and $A$ have the same mass). We choose the mass and volume units so that $M = V$. This means that mass fractions and concentrations are equivalent\n",
    "\n",
    "### Questions\n",
    "\n",
    "1) What is represented by $R$? What are the generic names for the enzymatic constants $\\sigma$ and $a_{sat}$?\n",
    "\n",
    "2) In your opinion, should $k$ depends on the composition of the media? And on the strain genotype?\n",
    "\n",
    "3) Write down differential equations representing the temporal evolution of the **amounts** of $A$, $E$ and $R$\n",
    "\n",
    "4) Find a simple expression for the instantaneous cell growth rate $\\alpha = \\frac{1}{V} \\frac{dV}{dt}$ (think mass conservation and combine the differential equations)\n",
    "\n",
    "5) **BONUS question - not required to continue**. Write down differential equations representing the temporal evolution of the **concentrations** $a$, $e$ and $r$ of $A$, $E$ and $R$\n",
    "\n",
    "> Below (after the questions), there is an interactive widget to explore the model behavior. Feel free to use it this code to answer the following questions. \n",
    "You can also try to reason from the equations directly...\n",
    "\n",
    "6) This model seems to always reach a state of steady (or balanced) exponential growth, where all components increase at the same (exponential rate), while the concentrations of components remain constant. To which extent is this steady-state dependent on initial conditions?\n",
    "\n",
    "7) What growth rate and concentrations do you expect at steady-state for the extreme cases $f_E = 0$ and $f_E = 1$?\n",
    "\n",
    "8) From now own we will fix $\\sigma = 1$ and $a_{sat} = 0.01$. Propose a fixed allocation strategy (i.e. a value for $f_E$) for the three following conditions: $k = 0.25$, $k = 1$ and $k = 2.5$. Your goal is to grow as fast as possible ! We will compare in class the different strategies you propose :)\n",
    "\n",
    "9) Describe with your words what governs how good a given choice of $f_E$ is.\n",
    "\n",
    "9) **Open question**. Propose a mathematical function $f_E = f(k)$ representing the best strategy to adopt as a function of $k$. The perfect answer is probably hard to find, so try to find a good enough and simple enough function. We will compare in class different choices.\n",
    "\n",
    "10) **Open question**. Let's assume that a cell can dynamically regulate or adapt its allocation strategy represented by the value $f_E$. Let's also assume that a cell can only sense **ONE** of the three internal concentration $e$, $r$ and $a$. What would you choose to sense in order to adapt the value of $f_E$? Let's call it $x$. Propose a dynamic regulation function $f_E = f(x)$ that you think is good (i.e., allows you to grow near optimally for a large range of environments, represented by different values of $k$). Don't forget that $f_E = 1 - f_R$, so you can also decide to have $f_R$ being primarily regulated. \n",
    "\n",
    "11) **BONUS question**. Adapt the code below to simulate the case where $f_E$ is dynamically regulated as you proposed above.\n"
   ]
  },
  {
   "cell_type": "markdown",
   "metadata": {},
   "source": [
    "#### Interactive exploration of the model behavior"
   ]
  },
  {
   "cell_type": "code",
   "execution_count": 1,
   "metadata": {},
   "outputs": [
    {
     "name": "stdout",
     "output_type": "stream",
     "text": [
      "Exploration of model behavior (press Run Interact to update)\n"
     ]
    },
    {
     "data": {
      "application/vnd.jupyter.widget-view+json": {
       "model_id": "f7a3c8758ce845c7bfdc47355f6b79aa",
       "version_major": 2,
       "version_minor": 0
      },
      "text/plain": [
       "interactive(children=(FloatSlider(value=0.0, description='fE', max=1.0, step=0.01), FloatSlider(value=5.0, des…"
      ]
     },
     "metadata": {},
     "output_type": "display_data"
    },
    {
     "name": "stdout",
     "output_type": "stream",
     "text": [
      "Exploration of how the allocation strategy impacts the growth rate (press Run Interact to update)\n"
     ]
    },
    {
     "data": {
      "application/vnd.jupyter.widget-view+json": {
       "model_id": "45720e3a7fdc47ab91980638e812d217",
       "version_major": 2,
       "version_minor": 0
      },
      "text/plain": [
       "interactive(children=(FloatSlider(value=5.0, description='k', max=10.0, min=0.01, step=0.01), IntSlider(value=…"
      ]
     },
     "metadata": {},
     "output_type": "display_data"
    }
   ],
   "source": [
    "# run this cell (by pressing SHIFT + ENTER when it is selected) to get started\n",
    "import ERA_model_simulator"
   ]
  },
  {
   "cell_type": "code",
   "execution_count": null,
   "metadata": {},
   "outputs": [],
   "source": []
  }
 ],
 "metadata": {
  "kernelspec": {
   "display_name": "Python 3",
   "language": "python",
   "name": "python3"
  },
  "language_info": {
   "codemirror_mode": {
    "name": "ipython",
    "version": 3
   },
   "file_extension": ".py",
   "mimetype": "text/x-python",
   "name": "python",
   "nbconvert_exporter": "python",
   "pygments_lexer": "ipython3",
   "version": "3.7.3"
  }
 },
 "nbformat": 4,
 "nbformat_minor": 2
}
